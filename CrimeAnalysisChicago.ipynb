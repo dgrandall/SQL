{
 "cells": [
  {
   "cell_type": "code",
   "execution_count": 1,
   "id": "caffafc8",
   "metadata": {},
   "outputs": [],
   "source": [
    "import sqlite3"
   ]
  },
  {
   "cell_type": "code",
   "execution_count": 2,
   "id": "67ea85cb",
   "metadata": {},
   "outputs": [],
   "source": [
    "import pandas as pd"
   ]
  },
  {
   "cell_type": "code",
   "execution_count": 3,
   "id": "ae43b408",
   "metadata": {},
   "outputs": [],
   "source": [
    "import numpy as np"
   ]
  },
  {
   "cell_type": "code",
   "execution_count": 13,
   "id": "866ec064",
   "metadata": {},
   "outputs": [],
   "source": [
    "import seaborn as sns "
   ]
  },
  {
   "cell_type": "code",
   "execution_count": 14,
   "id": "ba0ec4e1",
   "metadata": {},
   "outputs": [],
   "source": [
    "import matplotlib.pyplot as plt  "
   ]
  },
  {
   "cell_type": "code",
   "execution_count": 15,
   "id": "f4a8a3f5",
   "metadata": {},
   "outputs": [
    {
     "name": "stdout",
     "output_type": "stream",
     "text": [
      "<sqlite3.Connection object at 0x7fe548443640>\n"
     ]
    }
   ],
   "source": [
    "dbconn = sqlite3.connect('/home/d/Documents/SQL/CrimeAnalysis/CrimeDB')\n",
    "print(dbconn) #check the connection "
   ]
  },
  {
   "cell_type": "code",
   "execution_count": 16,
   "id": "4e832ef3",
   "metadata": {},
   "outputs": [],
   "source": [
    "# convert the results of the query to a dataframe so python can process it better\n",
    "df = pd.read_sql_query(\"SELECT PercentOfHousingCrowded,PercentHouseHoldsBelowPoverty,Percent16AndUpUnemployed,Percent25AndUpWithoutHighSchoolDiploma,PercentOver64OrUnder18,PerCapitaIncome,HardshipIndex FROM Census_Data_Selected_socioeconomic_indicators_in_Chicago__2008_2012\", dbconn)"
   ]
  },
  {
   "cell_type": "code",
   "execution_count": 17,
   "id": "600fdc8f",
   "metadata": {},
   "outputs": [],
   "source": [
    "df = pd.DataFrame(df)"
   ]
  },
  {
   "cell_type": "code",
   "execution_count": 18,
   "id": "e5b58a32",
   "metadata": {},
   "outputs": [
    {
     "data": {
      "text/html": [
       "<div>\n",
       "<style scoped>\n",
       "    .dataframe tbody tr th:only-of-type {\n",
       "        vertical-align: middle;\n",
       "    }\n",
       "\n",
       "    .dataframe tbody tr th {\n",
       "        vertical-align: top;\n",
       "    }\n",
       "\n",
       "    .dataframe thead th {\n",
       "        text-align: right;\n",
       "    }\n",
       "</style>\n",
       "<table border=\"1\" class=\"dataframe\">\n",
       "  <thead>\n",
       "    <tr style=\"text-align: right;\">\n",
       "      <th></th>\n",
       "      <th>PercentOfHousingCrowded</th>\n",
       "      <th>PercentHouseHoldsBelowPoverty</th>\n",
       "      <th>Percent16AndUpUnemployed</th>\n",
       "      <th>Percent25AndUpWithoutHighSchoolDiploma</th>\n",
       "      <th>PercentOver64OrUnder18</th>\n",
       "      <th>PerCapitaIncome</th>\n",
       "      <th>HardshipIndex</th>\n",
       "    </tr>\n",
       "  </thead>\n",
       "  <tbody>\n",
       "    <tr>\n",
       "      <th>0</th>\n",
       "      <td>7.7</td>\n",
       "      <td>23.6</td>\n",
       "      <td>8.7</td>\n",
       "      <td>18.2</td>\n",
       "      <td>27.5</td>\n",
       "      <td>23939</td>\n",
       "      <td>39.0</td>\n",
       "    </tr>\n",
       "    <tr>\n",
       "      <th>1</th>\n",
       "      <td>7.8</td>\n",
       "      <td>17.2</td>\n",
       "      <td>8.8</td>\n",
       "      <td>20.8</td>\n",
       "      <td>38.5</td>\n",
       "      <td>23040</td>\n",
       "      <td>46.0</td>\n",
       "    </tr>\n",
       "    <tr>\n",
       "      <th>2</th>\n",
       "      <td>3.8</td>\n",
       "      <td>24.0</td>\n",
       "      <td>8.9</td>\n",
       "      <td>11.8</td>\n",
       "      <td>22.2</td>\n",
       "      <td>35787</td>\n",
       "      <td>20.0</td>\n",
       "    </tr>\n",
       "    <tr>\n",
       "      <th>3</th>\n",
       "      <td>3.4</td>\n",
       "      <td>10.9</td>\n",
       "      <td>8.2</td>\n",
       "      <td>13.4</td>\n",
       "      <td>25.5</td>\n",
       "      <td>37524</td>\n",
       "      <td>17.0</td>\n",
       "    </tr>\n",
       "    <tr>\n",
       "      <th>4</th>\n",
       "      <td>0.3</td>\n",
       "      <td>7.5</td>\n",
       "      <td>5.2</td>\n",
       "      <td>4.5</td>\n",
       "      <td>26.2</td>\n",
       "      <td>57123</td>\n",
       "      <td>6.0</td>\n",
       "    </tr>\n",
       "  </tbody>\n",
       "</table>\n",
       "</div>"
      ],
      "text/plain": [
       "   PercentOfHousingCrowded  PercentHouseHoldsBelowPoverty   \n",
       "0                      7.7                           23.6  \\\n",
       "1                      7.8                           17.2   \n",
       "2                      3.8                           24.0   \n",
       "3                      3.4                           10.9   \n",
       "4                      0.3                            7.5   \n",
       "\n",
       "   Percent16AndUpUnemployed  Percent25AndUpWithoutHighSchoolDiploma   \n",
       "0                       8.7                                    18.2  \\\n",
       "1                       8.8                                    20.8   \n",
       "2                       8.9                                    11.8   \n",
       "3                       8.2                                    13.4   \n",
       "4                       5.2                                     4.5   \n",
       "\n",
       "   PercentOver64OrUnder18  PerCapitaIncome  HardshipIndex  \n",
       "0                    27.5            23939           39.0  \n",
       "1                    38.5            23040           46.0  \n",
       "2                    22.2            35787           20.0  \n",
       "3                    25.5            37524           17.0  \n",
       "4                    26.2            57123            6.0  "
      ]
     },
     "execution_count": 18,
     "metadata": {},
     "output_type": "execute_result"
    }
   ],
   "source": [
    "df.head()"
   ]
  },
  {
   "cell_type": "code",
   "execution_count": 19,
   "id": "1eb23712",
   "metadata": {},
   "outputs": [
    {
     "data": {
      "text/plain": [
       "PercentOfHousingCrowded                   float64\n",
       "PercentHouseHoldsBelowPoverty             float64\n",
       "Percent16AndUpUnemployed                  float64\n",
       "Percent25AndUpWithoutHighSchoolDiploma    float64\n",
       "PercentOver64OrUnder18                    float64\n",
       "PerCapitaIncome                             int64\n",
       "HardshipIndex                             float64\n",
       "dtype: object"
      ]
     },
     "execution_count": 19,
     "metadata": {},
     "output_type": "execute_result"
    }
   ],
   "source": [
    "df.dtypes # show different datatypes per column  "
   ]
  },
  {
   "cell_type": "code",
   "execution_count": 56,
   "id": "2e07e7fa",
   "metadata": {},
   "outputs": [],
   "source": [
    "#convert PerCapitaIncome to a float \n",
    "df[\"PerCapitaIncome\"] = df[\"PerCapitaIncome\"].astype(float)"
   ]
  },
  {
   "cell_type": "code",
   "execution_count": 57,
   "id": "04ddcef8",
   "metadata": {},
   "outputs": [
    {
     "data": {
      "text/plain": [
       "PercentOfHousingCrowded                   float64\n",
       "PercentHouseHoldsBelowPoverty             float64\n",
       "Percent16AndUpUnemployed                  float64\n",
       "Percent25AndUpWithoutHighSchoolDiploma    float64\n",
       "PercentOver64OrUnder18                    float64\n",
       "PerCapitaIncome                           float64\n",
       "HardshipIndex                             float64\n",
       "dtype: object"
      ]
     },
     "execution_count": 57,
     "metadata": {},
     "output_type": "execute_result"
    }
   ],
   "source": [
    "# check types again \n",
    "df.dtypes "
   ]
  },
  {
   "cell_type": "code",
   "execution_count": 49,
   "id": "f98158fa",
   "metadata": {},
   "outputs": [
    {
     "data": {
      "text/html": [
       "<div>\n",
       "<style scoped>\n",
       "    .dataframe tbody tr th:only-of-type {\n",
       "        vertical-align: middle;\n",
       "    }\n",
       "\n",
       "    .dataframe tbody tr th {\n",
       "        vertical-align: top;\n",
       "    }\n",
       "\n",
       "    .dataframe thead th {\n",
       "        text-align: right;\n",
       "    }\n",
       "</style>\n",
       "<table border=\"1\" class=\"dataframe\">\n",
       "  <thead>\n",
       "    <tr style=\"text-align: right;\">\n",
       "      <th></th>\n",
       "      <th>PercentOfHousingCrowded</th>\n",
       "      <th>PercentHouseHoldsBelowPoverty</th>\n",
       "      <th>Percent16AndUpUnemployed</th>\n",
       "      <th>Percent25AndUpWithoutHighSchoolDiploma</th>\n",
       "      <th>PercentOver64OrUnder18</th>\n",
       "      <th>PerCapitaIncome</th>\n",
       "      <th>HardshipIndex</th>\n",
       "    </tr>\n",
       "  </thead>\n",
       "  <tbody>\n",
       "    <tr>\n",
       "      <th>count</th>\n",
       "      <td>78.000000</td>\n",
       "      <td>78.000000</td>\n",
       "      <td>78.000000</td>\n",
       "      <td>78.000000</td>\n",
       "      <td>78.000000</td>\n",
       "      <td>78.000000</td>\n",
       "      <td>77.000000</td>\n",
       "    </tr>\n",
       "    <tr>\n",
       "      <th>mean</th>\n",
       "      <td>4.920513</td>\n",
       "      <td>21.739744</td>\n",
       "      <td>15.341026</td>\n",
       "      <td>20.330769</td>\n",
       "      <td>35.717949</td>\n",
       "      <td>25597.000000</td>\n",
       "      <td>49.506494</td>\n",
       "    </tr>\n",
       "    <tr>\n",
       "      <th>std</th>\n",
       "      <td>3.658981</td>\n",
       "      <td>11.457231</td>\n",
       "      <td>7.499497</td>\n",
       "      <td>11.746514</td>\n",
       "      <td>7.284421</td>\n",
       "      <td>15196.405541</td>\n",
       "      <td>28.690556</td>\n",
       "    </tr>\n",
       "    <tr>\n",
       "      <th>min</th>\n",
       "      <td>0.300000</td>\n",
       "      <td>3.300000</td>\n",
       "      <td>4.700000</td>\n",
       "      <td>2.500000</td>\n",
       "      <td>13.500000</td>\n",
       "      <td>8201.000000</td>\n",
       "      <td>1.000000</td>\n",
       "    </tr>\n",
       "    <tr>\n",
       "      <th>25%</th>\n",
       "      <td>2.325000</td>\n",
       "      <td>13.350000</td>\n",
       "      <td>9.200000</td>\n",
       "      <td>12.075000</td>\n",
       "      <td>32.150000</td>\n",
       "      <td>15804.750000</td>\n",
       "      <td>25.000000</td>\n",
       "    </tr>\n",
       "    <tr>\n",
       "      <th>50%</th>\n",
       "      <td>3.850000</td>\n",
       "      <td>19.050000</td>\n",
       "      <td>13.850000</td>\n",
       "      <td>18.650000</td>\n",
       "      <td>38.050000</td>\n",
       "      <td>21668.500000</td>\n",
       "      <td>50.000000</td>\n",
       "    </tr>\n",
       "    <tr>\n",
       "      <th>75%</th>\n",
       "      <td>6.800000</td>\n",
       "      <td>29.150000</td>\n",
       "      <td>20.000000</td>\n",
       "      <td>26.600000</td>\n",
       "      <td>40.500000</td>\n",
       "      <td>28715.750000</td>\n",
       "      <td>74.000000</td>\n",
       "    </tr>\n",
       "    <tr>\n",
       "      <th>max</th>\n",
       "      <td>15.800000</td>\n",
       "      <td>56.500000</td>\n",
       "      <td>35.900000</td>\n",
       "      <td>54.800000</td>\n",
       "      <td>51.500000</td>\n",
       "      <td>88669.000000</td>\n",
       "      <td>98.000000</td>\n",
       "    </tr>\n",
       "  </tbody>\n",
       "</table>\n",
       "</div>"
      ],
      "text/plain": [
       "       PercentOfHousingCrowded  PercentHouseHoldsBelowPoverty   \n",
       "count                78.000000                      78.000000  \\\n",
       "mean                  4.920513                      21.739744   \n",
       "std                   3.658981                      11.457231   \n",
       "min                   0.300000                       3.300000   \n",
       "25%                   2.325000                      13.350000   \n",
       "50%                   3.850000                      19.050000   \n",
       "75%                   6.800000                      29.150000   \n",
       "max                  15.800000                      56.500000   \n",
       "\n",
       "       Percent16AndUpUnemployed  Percent25AndUpWithoutHighSchoolDiploma   \n",
       "count                 78.000000                               78.000000  \\\n",
       "mean                  15.341026                               20.330769   \n",
       "std                    7.499497                               11.746514   \n",
       "min                    4.700000                                2.500000   \n",
       "25%                    9.200000                               12.075000   \n",
       "50%                   13.850000                               18.650000   \n",
       "75%                   20.000000                               26.600000   \n",
       "max                   35.900000                               54.800000   \n",
       "\n",
       "       PercentOver64OrUnder18  PerCapitaIncome  HardshipIndex  \n",
       "count               78.000000        78.000000      77.000000  \n",
       "mean                35.717949     25597.000000      49.506494  \n",
       "std                  7.284421     15196.405541      28.690556  \n",
       "min                 13.500000      8201.000000       1.000000  \n",
       "25%                 32.150000     15804.750000      25.000000  \n",
       "50%                 38.050000     21668.500000      50.000000  \n",
       "75%                 40.500000     28715.750000      74.000000  \n",
       "max                 51.500000     88669.000000      98.000000  "
      ]
     },
     "execution_count": 49,
     "metadata": {},
     "output_type": "execute_result"
    }
   ],
   "source": [
    "df.describe() # summary statistics for each column "
   ]
  },
  {
   "cell_type": "code",
   "execution_count": 50,
   "id": "ae1efc7a",
   "metadata": {},
   "outputs": [
    {
     "data": {
      "text/html": [
       "<div>\n",
       "<style scoped>\n",
       "    .dataframe tbody tr th:only-of-type {\n",
       "        vertical-align: middle;\n",
       "    }\n",
       "\n",
       "    .dataframe tbody tr th {\n",
       "        vertical-align: top;\n",
       "    }\n",
       "\n",
       "    .dataframe thead th {\n",
       "        text-align: right;\n",
       "    }\n",
       "</style>\n",
       "<table border=\"1\" class=\"dataframe\">\n",
       "  <thead>\n",
       "    <tr style=\"text-align: right;\">\n",
       "      <th></th>\n",
       "      <th>HardshipIndex</th>\n",
       "    </tr>\n",
       "  </thead>\n",
       "  <tbody>\n",
       "    <tr>\n",
       "      <th>count</th>\n",
       "      <td>77.000000</td>\n",
       "    </tr>\n",
       "    <tr>\n",
       "      <th>mean</th>\n",
       "      <td>49.506494</td>\n",
       "    </tr>\n",
       "    <tr>\n",
       "      <th>std</th>\n",
       "      <td>28.690556</td>\n",
       "    </tr>\n",
       "    <tr>\n",
       "      <th>min</th>\n",
       "      <td>1.000000</td>\n",
       "    </tr>\n",
       "    <tr>\n",
       "      <th>25%</th>\n",
       "      <td>25.000000</td>\n",
       "    </tr>\n",
       "    <tr>\n",
       "      <th>50%</th>\n",
       "      <td>50.000000</td>\n",
       "    </tr>\n",
       "    <tr>\n",
       "      <th>75%</th>\n",
       "      <td>74.000000</td>\n",
       "    </tr>\n",
       "    <tr>\n",
       "      <th>max</th>\n",
       "      <td>98.000000</td>\n",
       "    </tr>\n",
       "  </tbody>\n",
       "</table>\n",
       "</div>"
      ],
      "text/plain": [
       "       HardshipIndex\n",
       "count      77.000000\n",
       "mean       49.506494\n",
       "std        28.690556\n",
       "min         1.000000\n",
       "25%        25.000000\n",
       "50%        50.000000\n",
       "75%        74.000000\n",
       "max        98.000000"
      ]
     },
     "execution_count": 50,
     "metadata": {},
     "output_type": "execute_result"
    }
   ],
   "source": [
    "df[[\"HardshipIndex\"]].describe()"
   ]
  },
  {
   "cell_type": "code",
   "execution_count": 68,
   "id": "b77a0e58",
   "metadata": {},
   "outputs": [
    {
     "data": {
      "image/png": "[encoded data removed]",
      "text/plain": [
       "<Figure size 432x288 with 1 Axes>"
      ]
     },
     "metadata": {
      "needs_background": "light"
     },
     "output_type": "display_data"
    }
   ],
   "source": [
    "#create and show the distribution of the data for HardshipIndex\n",
    "bins = 9 # how do I find how many bins to use on a histogram? \n",
    "plt.hist(df[[\"HardshipIndex\"]],bins) \n",
    "plt.show()\n",
    "# can we figure out why this is empty? "
   ]
  },
  {
   "cell_type": "code",
   "execution_count": 55,
   "id": "d2cb0de1",
   "metadata": {},
   "outputs": [
    {
     "data": {
      "image/png": "[encoded data removed]",
      "text/plain": [
       "<Figure size 432x288 with 1 Axes>"
      ]
     },
     "metadata": {
      "needs_background": "light"
     },
     "output_type": "display_data"
    }
   ],
   "source": [
    "#create and show the distribution of the data for PerCapitaIncome\n",
    "plt.boxplot(df[[\"PerCapitaIncome\"]]) \n",
    "plt.show()"
   ]
  },
  {
   "cell_type": "code",
   "execution_count": 35,
   "id": "a47f64b9",
   "metadata": {},
   "outputs": [
    {
     "data": {
      "image/png": "[encoded data removed]",
      "text/plain": [
       "<Figure size 432x288 with 1 Axes>"
      ]
     },
     "metadata": {
      "needs_background": "light"
     },
     "output_type": "display_data"
    }
   ],
   "source": [
    "#create and show the distribution of data in these columns. \n",
    "plt.boxplot(df[[\"PercentOfHousingCrowded\",\"PercentHouseHoldsBelowPoverty\",\"Percent16AndUpUnemployed\",\"Percent25AndUpWithoutHighSchoolDiploma\",\"PercentOver64OrUnder18\"]]) \n",
    "plt.show()"
   ]
  },
  {
   "cell_type": "code",
   "execution_count": 11,
   "id": "3eac2355",
   "metadata": {},
   "outputs": [
    {
     "data": {
      "text/plain": [
       "<AxesSubplot:>"
      ]
     },
     "execution_count": 11,
     "metadata": {},
     "output_type": "execute_result"
    },
    {
     "data": {
      "image/png": "[encoded data removed]",
      "text/plain": [
       "<Figure size 432x288 with 2 Axes>"
      ]
     },
     "metadata": {
      "needs_background": "light"
     },
     "output_type": "display_data"
    }
   ],
   "source": [
    "sns.heatmap(df.corr()) # visual representation of correlation between variables "
   ]
  },
  {
   "cell_type": "code",
   "execution_count": 12,
   "id": "a7129f96",
   "metadata": {},
   "outputs": [
    {
     "data": {
      "text/html": [
       "<div>\n",
       "<style scoped>\n",
       "    .dataframe tbody tr th:only-of-type {\n",
       "        vertical-align: middle;\n",
       "    }\n",
       "\n",
       "    .dataframe tbody tr th {\n",
       "        vertical-align: top;\n",
       "    }\n",
       "\n",
       "    .dataframe thead th {\n",
       "        text-align: right;\n",
       "    }\n",
       "</style>\n",
       "<table border=\"1\" class=\"dataframe\">\n",
       "  <thead>\n",
       "    <tr style=\"text-align: right;\">\n",
       "      <th></th>\n",
       "      <th>PercentOfHousingCrowded</th>\n",
       "      <th>PercentHouseHoldsBelowPoverty</th>\n",
       "      <th>Percent16AndUpUnemployed</th>\n",
       "      <th>Percent25AndUpWithoutHighSchoolDiploma</th>\n",
       "      <th>PercentOver64OrUnder18</th>\n",
       "      <th>PerCapitaIncome</th>\n",
       "      <th>HardshipIndex</th>\n",
       "    </tr>\n",
       "  </thead>\n",
       "  <tbody>\n",
       "    <tr>\n",
       "      <th>PercentOfHousingCrowded</th>\n",
       "      <td>1.000000</td>\n",
       "      <td>0.319403</td>\n",
       "      <td>0.165299</td>\n",
       "      <td>0.875959</td>\n",
       "      <td>0.224692</td>\n",
       "      <td>-0.541730</td>\n",
       "      <td>0.649574</td>\n",
       "    </tr>\n",
       "    <tr>\n",
       "      <th>PercentHouseHoldsBelowPoverty</th>\n",
       "      <td>0.319403</td>\n",
       "      <td>1.000000</td>\n",
       "      <td>0.800084</td>\n",
       "      <td>0.424294</td>\n",
       "      <td>0.435894</td>\n",
       "      <td>-0.567025</td>\n",
       "      <td>0.803267</td>\n",
       "    </tr>\n",
       "    <tr>\n",
       "      <th>Percent16AndUpUnemployed</th>\n",
       "      <td>0.165299</td>\n",
       "      <td>0.800084</td>\n",
       "      <td>1.000000</td>\n",
       "      <td>0.355518</td>\n",
       "      <td>0.676532</td>\n",
       "      <td>-0.656619</td>\n",
       "      <td>0.792294</td>\n",
       "    </tr>\n",
       "    <tr>\n",
       "      <th>Percent25AndUpWithoutHighSchoolDiploma</th>\n",
       "      <td>0.875959</td>\n",
       "      <td>0.424294</td>\n",
       "      <td>0.355518</td>\n",
       "      <td>1.000000</td>\n",
       "      <td>0.408878</td>\n",
       "      <td>-0.709770</td>\n",
       "      <td>0.802538</td>\n",
       "    </tr>\n",
       "    <tr>\n",
       "      <th>PercentOver64OrUnder18</th>\n",
       "      <td>0.224692</td>\n",
       "      <td>0.435894</td>\n",
       "      <td>0.676532</td>\n",
       "      <td>0.408878</td>\n",
       "      <td>1.000000</td>\n",
       "      <td>-0.754844</td>\n",
       "      <td>0.690844</td>\n",
       "    </tr>\n",
       "    <tr>\n",
       "      <th>PerCapitaIncome</th>\n",
       "      <td>-0.541730</td>\n",
       "      <td>-0.567025</td>\n",
       "      <td>-0.656619</td>\n",
       "      <td>-0.709770</td>\n",
       "      <td>-0.754844</td>\n",
       "      <td>1.000000</td>\n",
       "      <td>-0.849167</td>\n",
       "    </tr>\n",
       "    <tr>\n",
       "      <th>HardshipIndex</th>\n",
       "      <td>0.649574</td>\n",
       "      <td>0.803267</td>\n",
       "      <td>0.792294</td>\n",
       "      <td>0.802538</td>\n",
       "      <td>0.690844</td>\n",
       "      <td>-0.849167</td>\n",
       "      <td>1.000000</td>\n",
       "    </tr>\n",
       "  </tbody>\n",
       "</table>\n",
       "</div>"
      ],
      "text/plain": [
       "                                        PercentOfHousingCrowded   \n",
       "PercentOfHousingCrowded                                1.000000  \\\n",
       "PercentHouseHoldsBelowPoverty                          0.319403   \n",
       "Percent16AndUpUnemployed                               0.165299   \n",
       "Percent25AndUpWithoutHighSchoolDiploma                 0.875959   \n",
       "PercentOver64OrUnder18                                 0.224692   \n",
       "PerCapitaIncome                                       -0.541730   \n",
       "HardshipIndex                                          0.649574   \n",
       "\n",
       "                                        PercentHouseHoldsBelowPoverty   \n",
       "PercentOfHousingCrowded                                      0.319403  \\\n",
       "PercentHouseHoldsBelowPoverty                                1.000000   \n",
       "Percent16AndUpUnemployed                                     0.800084   \n",
       "Percent25AndUpWithoutHighSchoolDiploma                       0.424294   \n",
       "PercentOver64OrUnder18                                       0.435894   \n",
       "PerCapitaIncome                                             -0.567025   \n",
       "HardshipIndex                                                0.803267   \n",
       "\n",
       "                                        Percent16AndUpUnemployed   \n",
       "PercentOfHousingCrowded                                 0.165299  \\\n",
       "PercentHouseHoldsBelowPoverty                           0.800084   \n",
       "Percent16AndUpUnemployed                                1.000000   \n",
       "Percent25AndUpWithoutHighSchoolDiploma                  0.355518   \n",
       "PercentOver64OrUnder18                                  0.676532   \n",
       "PerCapitaIncome                                        -0.656619   \n",
       "HardshipIndex                                           0.792294   \n",
       "\n",
       "                                        Percent25AndUpWithoutHighSchoolDiploma   \n",
       "PercentOfHousingCrowded                                               0.875959  \\\n",
       "PercentHouseHoldsBelowPoverty                                         0.424294   \n",
       "Percent16AndUpUnemployed                                              0.355518   \n",
       "Percent25AndUpWithoutHighSchoolDiploma                                1.000000   \n",
       "PercentOver64OrUnder18                                                0.408878   \n",
       "PerCapitaIncome                                                      -0.709770   \n",
       "HardshipIndex                                                         0.802538   \n",
       "\n",
       "                                        PercentOver64OrUnder18   \n",
       "PercentOfHousingCrowded                               0.224692  \\\n",
       "PercentHouseHoldsBelowPoverty                         0.435894   \n",
       "Percent16AndUpUnemployed                              0.676532   \n",
       "Percent25AndUpWithoutHighSchoolDiploma                0.408878   \n",
       "PercentOver64OrUnder18                                1.000000   \n",
       "PerCapitaIncome                                      -0.754844   \n",
       "HardshipIndex                                         0.690844   \n",
       "\n",
       "                                        PerCapitaIncome  HardshipIndex  \n",
       "PercentOfHousingCrowded                       -0.541730       0.649574  \n",
       "PercentHouseHoldsBelowPoverty                 -0.567025       0.803267  \n",
       "Percent16AndUpUnemployed                      -0.656619       0.792294  \n",
       "Percent25AndUpWithoutHighSchoolDiploma        -0.709770       0.802538  \n",
       "PercentOver64OrUnder18                        -0.754844       0.690844  \n",
       "PerCapitaIncome                                1.000000      -0.849167  \n",
       "HardshipIndex                                 -0.849167       1.000000  "
      ]
     },
     "execution_count": 12,
     "metadata": {},
     "output_type": "execute_result"
    }
   ],
   "source": [
    "df.corr() # numerical epresentation of correlation between variables "
   ]
  },
  {
   "cell_type": "code",
   "execution_count": null,
   "id": "0d38cd08",
   "metadata": {},
   "outputs": [],
   "source": []
  }
 ],
 "metadata": {
  "kernelspec": {
   "display_name": "Python 3 (ipykernel)",
   "language": "python",
   "name": "python3"
  },
  "language_info": {
   "codemirror_mode": {
    "name": "ipython",
    "version": 3
   },
   "file_extension": ".py",
   "mimetype": "text/x-python",
   "name": "python",
   "nbconvert_exporter": "python",
   "pygments_lexer": "ipython3",
   "version": "3.10.12"
  }
 },
 "nbformat": 4,
 "nbformat_minor": 5
}
